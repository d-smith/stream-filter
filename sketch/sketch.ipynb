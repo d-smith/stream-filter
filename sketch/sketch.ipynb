{
 "cells": [
  {
   "cell_type": "markdown",
   "metadata": {},
   "source": [
    "# Stream Filtering\n",
    "\n",
    "Experiment: can we use Kinesis data analytics to filter the records written to one stream to populate other streams? Or more accurately, how do we do this, and what's the latency for a record written to the main stream to hit the filtered stream?\n",
    "\n",
    "## Setup"
   ]
  },
  {
   "cell_type": "markdown",
   "metadata": {},
   "source": [
    "First, we need some streams"
   ]
  },
  {
   "cell_type": "code",
   "execution_count": null,
   "metadata": {},
   "outputs": [],
   "source": [
    "import boto3\n",
    "\n",
    "kinesis_client = boto3.client('kinesis')"
   ]
  },
  {
   "cell_type": "code",
   "execution_count": null,
   "metadata": {},
   "outputs": [],
   "source": [
    "# Create some streams\n",
    "main_stream_response = kinesis_client.create_stream(\n",
    "    StreamName='main', \n",
    "    ShardCount = 1)"
   ]
  },
  {
   "cell_type": "code",
   "execution_count": null,
   "metadata": {},
   "outputs": [],
   "source": [
    "kinesis_client.describe_stream(StreamName='main')"
   ]
  },
  {
   "cell_type": "code",
   "execution_count": null,
   "metadata": {},
   "outputs": [],
   "source": [
    "kinesis_client.create_stream(StreamName='filtered', ShardCount=1)"
   ]
  },
  {
   "cell_type": "code",
   "execution_count": null,
   "metadata": {},
   "outputs": [],
   "source": [
    "kinesis_client.describe_stream(StreamName='filtered')"
   ]
  },
  {
   "cell_type": "code",
   "execution_count": null,
   "metadata": {},
   "outputs": [],
   "source": [
    "from datetime import datetime, timezone\n",
    "\n",
    "def timestamp():\n",
    "    the_time = datetime.now(timezone.utc)\n",
    "    return the_time.isoformat()"
   ]
  },
  {
   "cell_type": "markdown",
   "metadata": {},
   "source": [
    "## Stream Write"
   ]
  },
  {
   "cell_type": "code",
   "execution_count": null,
   "metadata": {},
   "outputs": [],
   "source": [
    "import uuid\n",
    "\n",
    "event = {\n",
    "    \"specversion\":\"1.0\",\n",
    "    \"type\":\"newFoo\",\n",
    "    \"source\":\"foo\",\n",
    "    \"id\":str(uuid.uuid4()),\n",
    "    \"time\":timestamp(),\n",
    "    \"data\":{\"fooaddr\":\"foostuffval\",\n",
    "           \"foolist\": [1,2,3],\n",
    "           \"barobj\": {\n",
    "               \"baraatr1\":\"yes\",\n",
    "               \"barattr2\":False,\n",
    "               \"barattr3\":122.22\n",
    "           }}\n",
    "}"
   ]
  },
  {
   "cell_type": "code",
   "execution_count": null,
   "metadata": {},
   "outputs": [],
   "source": [
    "event['source']"
   ]
  },
  {
   "cell_type": "code",
   "execution_count": null,
   "metadata": {},
   "outputs": [],
   "source": [
    "import json\n",
    "\n",
    "prr = kinesis_client.put_record(\n",
    "    StreamName='main',\n",
    "    Data=json.dumps(event).encode(),\n",
    "    PartitionKey=event['source']\n",
    ")"
   ]
  },
  {
   "cell_type": "code",
   "execution_count": null,
   "metadata": {},
   "outputs": [],
   "source": [
    "prr"
   ]
  },
  {
   "cell_type": "markdown",
   "metadata": {},
   "source": [
    "## Analytics App"
   ]
  },
  {
   "cell_type": "markdown",
   "metadata": {},
   "source": [
    "manual experiment\n",
    "\n",
    "* write structured records to stream\n",
    "* capture in schema, filter to output stream\n",
    "* show they make it\n",
    "* show non-conformant errors are ignore\n",
    "\n",
    "Discovered schema:\n",
    "\n",
    "```\n",
    "'RecordColumns': [{'Name': 'specversion',\n",
    "         'Mapping': '$.specversion',\n",
    "         'SqlType': 'DECIMAL(1,1)'},\n",
    "        {'Name': 'type', 'Mapping': '$.type', 'SqlType': 'VARCHAR(8)'},\n",
    "        {'Name': 'source', 'Mapping': '$.source', 'SqlType': 'VARCHAR(4)'},\n",
    "        {'Name': 'id', 'Mapping': '$.id', 'SqlType': 'VARCHAR(64)'},\n",
    "        {'Name': 'COL_time', 'Mapping': '$.time', 'SqlType': 'VARCHAR(32)'},\n",
    "        {'Name': 'fooaddr',\n",
    "         'Mapping': '$.data.fooaddr',\n",
    "         'SqlType': 'VARCHAR(16)'},\n",
    "        {'Name': 'foolist',\n",
    "         'Mapping': '$.data.foolist[0:]',\n",
    "         'SqlType': 'VARCHAR(8)'},\n",
    "        {'Name': 'baraatr1',\n",
    "         'Mapping': '$.data.barobj.baraatr1',\n",
    "         'SqlType': 'VARCHAR(4)'},\n",
    "        {'Name': 'barattr2',\n",
    "         'Mapping': '$.data.barobj.barattr2',\n",
    "         'SqlType': 'BOOLEAN'},\n",
    "        {'Name': 'barattr3',\n",
    "         'Mapping': '$.data.barobj.barattr3',\n",
    "         'SqlType': 'DECIMAL(5,2)'}]},\n",
    "```\n",
    "\n",
    "\n",
    "```sql\n",
    "CREATE OR REPLACE STREAM \"DESTINATION_SQL_STREAM\" (specversion DECIMAL(1,1), source VARCHAR(4), type VARCHAR(4), id VARCHAR(64), COL_time VARCHAR(32), fooaddr VARCHAR(16), HMMMMM DO I NEED TO HAVE PARENT/CHILD TABLES, e.g. JSON to relational mapping????);\n",
    "-- Create pump to insert into output \n",
    "CREATE OR REPLACE PUMP \"STREAM_PUMP\" AS INSERT INTO \"DESTINATION_SQL_STREAM\"\n",
    "-- Select all columns from source stream\n",
    "SELECT STREAM ticker_symbol, sector, change, price\n",
    "FROM \"SOURCE_SQL_STREAM_001\"\n",
    "-- LIKE compares a string to a string pattern (_ matches all char, % matches substring)\n",
    "-- SIMILAR TO compares string to a regex, may use ESCAPE\n",
    "WHERE sector SIMILAR TO '%TECH%';\n",
    "```"
   ]
  },
  {
   "cell_type": "code",
   "execution_count": null,
   "metadata": {},
   "outputs": [],
   "source": [
    "ka = boto3.client('kinesisanalyticsv2')"
   ]
  },
  {
   "cell_type": "code",
   "execution_count": null,
   "metadata": {},
   "outputs": [],
   "source": [
    "# Dump an existing application\n",
    "\n",
    "ka.describe_application(\n",
    "    ApplicationName='sample'\n",
    ")"
   ]
  },
  {
   "cell_type": "code",
   "execution_count": null,
   "metadata": {},
   "outputs": [],
   "source": [
    "# Pump the base cloud events.io schema through the stream to let the schema derivation tool define the schema for us.\n",
    "\n",
    "seed_event = {\n",
    "    \"specversion\":\"1.0\",\n",
    "    \"type\":\"newFoo\",\n",
    "    \"source\":\"foo\",\n",
    "    \"id\":str(uuid.uuid4()),\n",
    "    \"time\":timestamp()\n",
    "}\n",
    "\n",
    "kinesis_client.put_record(\n",
    "    StreamName='main',\n",
    "    Data=json.dumps(seed_event).encode(),\n",
    "    PartitionKey=event['source']\n",
    ")"
   ]
  },
  {
   "cell_type": "markdown",
   "metadata": {},
   "source": [
    "### Sample Describe Application Output\n",
    "\n",
    "```console\n",
    "{'ApplicationDetail': {'ApplicationARN': 'arn:aws:kinesisanalytics:us-east-1:111111111111:application/sample',\n",
    "  'ApplicationDescription': 'sample app',\n",
    "  'ApplicationName': 'sample',\n",
    "  'RuntimeEnvironment': 'SQL-1_0',\n",
    "  'ApplicationStatus': 'READY',\n",
    "  'ApplicationVersionId': 2,\n",
    "  'CreateTimestamp': datetime.datetime(2020, 1, 14, 14, 12, tzinfo=tzlocal()),\n",
    "  'LastUpdateTimestamp': datetime.datetime(2020, 1, 14, 14, 13, 13, tzinfo=tzlocal()),\n",
    "  'ApplicationConfigurationDescription': {'SqlApplicationConfigurationDescription': {'InputDescriptions': [{'InputId': '2.1',\n",
    "      'NamePrefix': 'SOURCE_SQL_STREAM',\n",
    "      'InAppStreamNames': ['SOURCE_SQL_STREAM_001'],\n",
    "      'KinesisStreamsInputDescription': {'ResourceARN': 'arn:aws:kinesis:us-east-1:111111111111:stream/main',\n",
    "       'RoleARN': 'arn:aws:iam::111111111111:role/service-role/kinesis-analytics-sample-us-east-1'},\n",
    "      'InputSchema': {'RecordFormat': {'RecordFormatType': 'JSON',\n",
    "        'MappingParameters': {'JSONMappingParameters': {'RecordRowPath': '$'}}},\n",
    "       'RecordEncoding': 'UTF-8',\n",
    "       'RecordColumns': [{'Name': 'specversion',\n",
    "         'Mapping': '$.specversion',\n",
    "         'SqlType': 'DECIMAL(1,1)'},\n",
    "        {'Name': 'type', 'Mapping': '$.type', 'SqlType': 'VARCHAR(8)'},\n",
    "        {'Name': 'source', 'Mapping': '$.source', 'SqlType': 'VARCHAR(4)'},\n",
    "        {'Name': 'id', 'Mapping': '$.id', 'SqlType': 'VARCHAR(64)'},\n",
    "        {'Name': 'COL_time', 'Mapping': '$.time', 'SqlType': 'VARCHAR(32)'}]},\n",
    "      'InputParallelism': {'Count': 1},\n",
    "      'InputStartingPositionConfiguration': {}}]}}},\n",
    " 'ResponseMetadata': {'RequestId': '90b86041-a805-4479-9ac8-6fd837c418f2',\n",
    "  'HTTPStatusCode': 200,\n",
    "  'HTTPHeaders': {'x-amzn-requestid': '90b86041-a805-4479-9ac8-6fd837c418f2',\n",
    "   'content-type': 'application/x-amz-json-1.1',\n",
    "   'content-length': '1272',\n",
    "   'date': 'Tue, 14 Jan 2020 22:13:38 GMT'},\n",
    "  'RetryAttempts': 0}}\n",
    "\n",
    "```"
   ]
  },
  {
   "cell_type": "markdown",
   "metadata": {},
   "source": [
    "### Role Policy Outline\n",
    "```\n",
    "{\n",
    "    \"Version\": \"2012-10-17\",\n",
    "    \"Statement\": [\n",
    "        {\n",
    "            \"Sid\": \"ReadInputKinesis\",\n",
    "            \"Effect\": \"Allow\",\n",
    "            \"Action\": [\n",
    "                \"kinesis:DescribeStream\",\n",
    "                \"kinesis:GetShardIterator\",\n",
    "                \"kinesis:GetRecords\"\n",
    "            ],\n",
    "            \"Resource\": [\n",
    "                \"arn:aws:kinesis:us-east-1:111111111111:stream/main\"\n",
    "            ]\n",
    "        },\n",
    "        {\n",
    "            \"Sid\": \"WriteOutputKinesis\",\n",
    "            \"Effect\": \"Allow\",\n",
    "            \"Action\": [\n",
    "                \"kinesis:DescribeStream\",\n",
    "                \"kinesis:PutRecord\",\n",
    "                \"kinesis:PutRecords\"\n",
    "            ],\n",
    "            \"Resource\": [\n",
    "                \"arn:aws:kinesis:region:account-id:stream/%STREAM_NAME_PLACEHOLDER%\"\n",
    "            ]\n",
    "        },\n",
    "        {\n",
    "            \"Sid\": \"WriteOutputFirehose\",\n",
    "            \"Effect\": \"Allow\",\n",
    "            \"Action\": [\n",
    "                \"firehose:DescribeDeliveryStream\",\n",
    "                \"firehose:PutRecord\",\n",
    "                \"firehose:PutRecordBatch\"\n",
    "            ],\n",
    "            \"Resource\": [\n",
    "                \"arn:aws:firehose:region:account-id:deliverystream/%FIREHOSE_NAME_PLACEHOLDER%\"\n",
    "            ]\n",
    "        },\n",
    "        {\n",
    "            \"Sid\": \"ReadInputFirehose\",\n",
    "            \"Effect\": \"Allow\",\n",
    "            \"Action\": [\n",
    "                \"firehose:DescribeDeliveryStream\",\n",
    "                \"firehose:Get*\"\n",
    "            ],\n",
    "            \"Resource\": [\n",
    "                \"arn:aws:firehose:region:account-id:deliverystream/%FIREHOSE_NAME_PLACEHOLDER%\"\n",
    "            ]\n",
    "        },\n",
    "        {\n",
    "            \"Sid\": \"ReadS3ReferenceData\",\n",
    "            \"Effect\": \"Allow\",\n",
    "            \"Action\": [\n",
    "                \"s3:GetObject\"\n",
    "            ],\n",
    "            \"Resource\": [\n",
    "                \"arn:aws:s3:::kinesis-analytics-placeholder-s3-bucket/kinesis-analytics-placeholder-s3-object\"\n",
    "            ]\n",
    "        },\n",
    "        {\n",
    "            \"Sid\": \"ReadEncryptedInputKinesisStream\",\n",
    "            \"Effect\": \"Allow\",\n",
    "            \"Action\": [\n",
    "                \"kms:Decrypt\"\n",
    "            ],\n",
    "            \"Resource\": [\n",
    "                \"arn:aws:kms:region:account-id:key/%SOURCE_STREAM_ENCRYPTION_KEY_PLACEHOLDER%\"\n",
    "            ],\n",
    "            \"Condition\": {\n",
    "                \"StringEquals\": {\n",
    "                    \"kms:ViaService\": \"kinesis.us-east-1.amazonaws.com\"\n",
    "                },\n",
    "                \"StringLike\": {\n",
    "                    \"kms:EncryptionContext:aws:kinesis:arn\": \"arn:aws:kinesis:us-east-1:111111111111:stream/main\"\n",
    "                }\n",
    "            }\n",
    "        },\n",
    "        {\n",
    "            \"Sid\": \"WriteEncryptedOutputKinesisStream1\",\n",
    "            \"Effect\": \"Allow\",\n",
    "            \"Action\": [\n",
    "                \"kms:GenerateDataKey\"\n",
    "            ],\n",
    "            \"Resource\": [\n",
    "                \"arn:aws:kms:region:account-id:key/%DESTINATION_STREAM_ENCRYPTION_KEY_PLACEHOLDER%\"\n",
    "            ],\n",
    "            \"Condition\": {\n",
    "                \"StringEquals\": {\n",
    "                    \"kms:ViaService\": \"kinesis.us-east-1.amazonaws.com\"\n",
    "                },\n",
    "                \"StringLike\": {\n",
    "                    \"kms:EncryptionContext:aws:kinesis:arn\": \"arn:aws:kinesis:region:account-id:stream/%STREAM_NAME_PLACEHOLDER%\"\n",
    "                }\n",
    "            }\n",
    "        },\n",
    "        {\n",
    "            \"Sid\": \"WriteEncryptedOutputKinesisStream2\",\n",
    "            \"Effect\": \"Allow\",\n",
    "            \"Action\": [\n",
    "                \"kms:GenerateDataKey\"\n",
    "            ],\n",
    "            \"Resource\": [\n",
    "                \"arn:aws:kms:region:account-id:key/%DESTINATION_STREAM_ENCRYPTION_KEY_PLACEHOLDER%\"\n",
    "            ],\n",
    "            \"Condition\": {\n",
    "                \"StringEquals\": {\n",
    "                    \"kms:ViaService\": \"kinesis.us-east-1.amazonaws.com\"\n",
    "                },\n",
    "                \"StringLike\": {\n",
    "                    \"kms:EncryptionContext:aws:kinesis:arn\": \"arn:aws:kinesis:region:account-id:stream/%STREAM_NAME_PLACEHOLDER%\"\n",
    "                }\n",
    "            }\n",
    "        },\n",
    "        {\n",
    "            \"Sid\": \"WriteEncryptedOutputKinesisStream3\",\n",
    "            \"Effect\": \"Allow\",\n",
    "            \"Action\": [\n",
    "                \"kms:GenerateDataKey\"\n",
    "            ],\n",
    "            \"Resource\": [\n",
    "                \"arn:aws:kms:region:account-id:key/%DESTINATION_STREAM_ENCRYPTION_KEY_PLACEHOLDER%\"\n",
    "            ],\n",
    "            \"Condition\": {\n",
    "                \"StringEquals\": {\n",
    "                    \"kms:ViaService\": \"kinesis.us-east-1.amazonaws.com\"\n",
    "                },\n",
    "                \"StringLike\": {\n",
    "                    \"kms:EncryptionContext:aws:kinesis:arn\": \"arn:aws:kinesis:region:account-id:stream/%STREAM_NAME_PLACEHOLDER%\"\n",
    "                }\n",
    "            }\n",
    "        },\n",
    "        {\n",
    "            \"Sid\": \"UseLambdaFunction\",\n",
    "            \"Effect\": \"Allow\",\n",
    "            \"Action\": [\n",
    "                \"lambda:InvokeFunction\",\n",
    "                \"lambda:GetFunctionConfiguration\"\n",
    "            ],\n",
    "            \"Resource\": [\n",
    "                \"arn:aws:lambda:region:account-id:function:%FUNCTION_NAME_PLACEHOLDER%:%FUNCTION_VERSION_PLACEHOLDER%\"\n",
    "            ]\n",
    "        }\n",
    "    ]\n",
    "}\n",
    "```"
   ]
  },
  {
   "cell_type": "code",
   "execution_count": null,
   "metadata": {},
   "outputs": [],
   "source": [
    "# Describe role output\n",
    "\n",
    "iam = boto3.client('iam')"
   ]
  },
  {
   "cell_type": "code",
   "execution_count": null,
   "metadata": {},
   "outputs": [],
   "source": [
    "iam.get_role(RoleName='kinesis-analytics-sample-us-east-1')"
   ]
  },
  {
   "cell_type": "code",
   "execution_count": null,
   "metadata": {},
   "outputs": [],
   "source": [
    "iam.list_role_policies(RoleName='kinesis-analytics-sample-us-east-1')"
   ]
  },
  {
   "cell_type": "code",
   "execution_count": null,
   "metadata": {},
   "outputs": [],
   "source": [
    "car = ka.create_application(\n",
    "    AppName = 'Dave',\n",
    "    ApplicationDescription = 'Dave the wonder app',\n",
    "    RuntimeEnvironment = 'SQL-1_0',\n",
    "    ServiceExecutionRole = 'uh-oh'\n",
    "    # Oh crap how do we specify all this stuff - maybe create one from the console and dump it...\n",
    ")"
   ]
  },
  {
   "cell_type": "markdown",
   "metadata": {},
   "source": [
    "## Stream Read"
   ]
  },
  {
   "cell_type": "code",
   "execution_count": null,
   "metadata": {},
   "outputs": [],
   "source": [
    "## Read from stream\n",
    "\n",
    "shardId = prr['ShardId']\n",
    "print('shard id is %s' % shardId)\n",
    "\n",
    "gsir = kinesis_client.get_shard_iterator(\n",
    "    StreamName='main',\n",
    "    ShardId=shardId,\n",
    "    ShardIteratorType='TRIM_HORIZON'\n",
    ")\n",
    "print(gsir)"
   ]
  },
  {
   "cell_type": "code",
   "execution_count": null,
   "metadata": {},
   "outputs": [],
   "source": [
    "## Read from currne position of the iterator\n",
    "grr = kinesis_client.get_records(\n",
    "    ShardIterator=gsir['ShardIterator']\n",
    ")\n",
    "\n",
    "print(grr)"
   ]
  },
  {
   "cell_type": "code",
   "execution_count": null,
   "metadata": {},
   "outputs": [],
   "source": [
    "records = grr['Records']\n",
    "for r in records:\n",
    "    print(r)"
   ]
  },
  {
   "cell_type": "markdown",
   "metadata": {},
   "source": [
    "## Cleanup"
   ]
  },
  {
   "cell_type": "code",
   "execution_count": null,
   "metadata": {},
   "outputs": [],
   "source": [
    "kinesis_client.delete_stream(StreamName='main')\n",
    "kinesis_client.delete_stream(StreamName='filtered')"
   ]
  },
  {
   "cell_type": "code",
   "execution_count": null,
   "metadata": {},
   "outputs": [],
   "source": [
    "kinesis_client.list_streams()"
   ]
  },
  {
   "cell_type": "code",
   "execution_count": null,
   "metadata": {},
   "outputs": [],
   "source": []
  }
 ],
 "metadata": {
  "kernelspec": {
   "display_name": "Python 3",
   "language": "python",
   "name": "python3"
  },
  "language_info": {
   "codemirror_mode": {
    "name": "ipython",
    "version": 3
   },
   "file_extension": ".py",
   "mimetype": "text/x-python",
   "name": "python",
   "nbconvert_exporter": "python",
   "pygments_lexer": "ipython3",
   "version": "3.6.5"
  }
 },
 "nbformat": 4,
 "nbformat_minor": 2
}
