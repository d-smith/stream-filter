{
 "cells": [
  {
   "cell_type": "markdown",
   "metadata": {},
   "source": [
    "# Stream Filtering - KinesisAnalytics V2 API\n",
    "\n",
    "Experiment: can we use Kinesis data analytics to filter the records written to one stream to populate other streams? Or more accurately, how do we do this, and what's the latency for a record written to the main stream to hit the filtered stream?\n",
    "\n",
    "## Setup"
   ]
  },
  {
   "cell_type": "markdown",
   "metadata": {},
   "source": [
    "First, we need some streams"
   ]
  },
  {
   "cell_type": "code",
   "execution_count": null,
   "metadata": {},
   "outputs": [],
   "source": [
    "import boto3\n",
    "\n",
    "kinesis_client = boto3.client('kinesis')"
   ]
  },
  {
   "cell_type": "code",
   "execution_count": null,
   "metadata": {},
   "outputs": [],
   "source": [
    "import os\n",
    "account_no = os.environ['ACCOUNT_NO']"
   ]
  },
  {
   "cell_type": "code",
   "execution_count": null,
   "metadata": {},
   "outputs": [],
   "source": [
    "# Create some streams\n",
    "main_stream_response = kinesis_client.create_stream(\n",
    "    StreamName='main', \n",
    "    ShardCount = 1)"
   ]
  },
  {
   "cell_type": "code",
   "execution_count": null,
   "metadata": {},
   "outputs": [],
   "source": [
    "kinesis_client.describe_stream(StreamName='main')"
   ]
  },
  {
   "cell_type": "code",
   "execution_count": null,
   "metadata": {},
   "outputs": [],
   "source": [
    "kinesis_client.create_stream(StreamName='filtered', ShardCount=1)"
   ]
  },
  {
   "cell_type": "code",
   "execution_count": null,
   "metadata": {},
   "outputs": [],
   "source": [
    "kinesis_client.describe_stream(StreamName='filtered')"
   ]
  },
  {
   "cell_type": "code",
   "execution_count": null,
   "metadata": {},
   "outputs": [],
   "source": [
    "from datetime import datetime, timezone\n",
    "\n",
    "def timestamp():\n",
    "    the_time = datetime.now(timezone.utc)\n",
    "    return the_time.isoformat()"
   ]
  },
  {
   "cell_type": "markdown",
   "metadata": {},
   "source": [
    "## Stream Write"
   ]
  },
  {
   "cell_type": "code",
   "execution_count": null,
   "metadata": {},
   "outputs": [],
   "source": [
    "import uuid\n",
    "\n",
    "event = {\n",
    "    \"specversion\":\"1.0\",\n",
    "    \"type\":\"newFoo\",\n",
    "    \"source\":\"foo\",\n",
    "    \"id\":str(uuid.uuid4()),\n",
    "    \"time\":timestamp(),\n",
    "    \"data\":{\"fooaddr\":\"foostuffval\",\n",
    "           \"foolist\": [1,2,3],\n",
    "           \"barobj\": {\n",
    "               \"baraatr1\":\"yes\",\n",
    "               \"barattr2\":False,\n",
    "               \"barattr3\":122.22\n",
    "           }}\n",
    "}"
   ]
  },
  {
   "cell_type": "code",
   "execution_count": null,
   "metadata": {},
   "outputs": [],
   "source": [
    "print(event)"
   ]
  },
  {
   "cell_type": "code",
   "execution_count": null,
   "metadata": {},
   "outputs": [],
   "source": [
    "import json\n",
    "\n",
    "prr = kinesis_client.put_record(\n",
    "    StreamName='main',\n",
    "    Data=json.dumps(event).encode(),\n",
    "    PartitionKey=event['source']\n",
    ")"
   ]
  },
  {
   "cell_type": "code",
   "execution_count": null,
   "metadata": {},
   "outputs": [],
   "source": [
    "prr"
   ]
  },
  {
   "cell_type": "markdown",
   "metadata": {},
   "source": [
    "## Analytics App\n",
    "\n",
    "### Role"
   ]
  },
  {
   "cell_type": "code",
   "execution_count": null,
   "metadata": {},
   "outputs": [],
   "source": [
    "kinesis_app_policy = {\n",
    "    \"Version\": \"2012-10-17\",\n",
    "    \"Statement\": [\n",
    "        {\n",
    "            \"Sid\": \"ReadInputKinesis\",\n",
    "            \"Effect\": \"Allow\",\n",
    "            \"Action\": [\n",
    "                \"kinesis:DescribeStream\",\n",
    "                \"kinesis:GetShardIterator\",\n",
    "                \"kinesis:GetRecords\"\n",
    "            ],\n",
    "            \"Resource\": [\n",
    "                \"arn:aws:kinesis:us-east-1:\" + account_no + \":stream/main\"\n",
    "            ]\n",
    "        },\n",
    "        {\n",
    "            \"Sid\": \"WriteOutputKinesis\",\n",
    "            \"Effect\": \"Allow\",\n",
    "            \"Action\": [\n",
    "                \"kinesis:DescribeStream\",\n",
    "                \"kinesis:PutRecord\",\n",
    "                \"kinesis:PutRecords\"\n",
    "            ],\n",
    "            \"Resource\": [\n",
    "                \"arn:aws:kinesis:us-east-1:\" + account_no + \":stream/filtered\"\n",
    "            ]\n",
    "        }\n",
    "    ]\n",
    "}"
   ]
  },
  {
   "cell_type": "code",
   "execution_count": null,
   "metadata": {},
   "outputs": [],
   "source": [
    "kinesis_app_policy"
   ]
  },
  {
   "cell_type": "code",
   "execution_count": null,
   "metadata": {},
   "outputs": [],
   "source": [
    "assume_role_policy = {\n",
    "    \"Statement\":[{\n",
    "        \"Effect\":\"Allow\",\n",
    "        \"Principal\": {\"Service\":[\"kinesisanalytics.amazonaws.com\"]},\n",
    "        \"Action\": [\"sts:AssumeRole\"]\n",
    "    }]\n",
    "}\n",
    "    \n",
    "    \n",
    "import json\n",
    "\n",
    "json.dumps(assume_role_policy)"
   ]
  },
  {
   "cell_type": "code",
   "execution_count": null,
   "metadata": {},
   "outputs": [],
   "source": [
    "iam = boto3.client('iam')\n",
    "\n",
    "crr = iam.create_role(\n",
    "    RoleName='sample-ka-app-role',\n",
    "    Path='/service-role/',\n",
    "    AssumeRolePolicyDocument=json.dumps(assume_role_policy)\n",
    ")\n",
    "\n",
    "print(crr)"
   ]
  },
  {
   "cell_type": "code",
   "execution_count": null,
   "metadata": {},
   "outputs": [],
   "source": [
    "prp = iam.put_role_policy(\n",
    "    RoleName='sample-ka-app-role',\n",
    "    PolicyName='KAPolicy',\n",
    "    PolicyDocument=json.dumps(kinesis_app_policy)\n",
    ")\n",
    "\n",
    "print(prp)"
   ]
  },
  {
   "cell_type": "markdown",
   "metadata": {},
   "source": [
    "### App Definition"
   ]
  },
  {
   "cell_type": "code",
   "execution_count": null,
   "metadata": {},
   "outputs": [],
   "source": [
    "ka = boto3.client('kinesisanalyticsv2')"
   ]
  },
  {
   "cell_type": "code",
   "execution_count": null,
   "metadata": {},
   "outputs": [],
   "source": [
    "application_code = '-- ** Continuous Filter ** \\n-- Performs a continuous filter based on a WHERE condition.\\n--          .----------.   .----------.   .----------.              \\n--          |  SOURCE  |   |  INSERT  |   |  DESTIN. |              \\n-- Source-->|  STREAM  |-->| & SELECT |-->|  STREAM  |-->Destination\\n--          |          |   |  (PUMP)  |   |          |              \\n--          \\'----------\\'   \\'----------\\'   \\'----------\\'               \\n-- STREAM (in-application): a continuously updated entity that you can SELECT from and INSERT into like a TABLE\\n-- PUMP: an entity used to continuously \\'SELECT ... FROM\\' a source STREAM, and INSERT SQL results into an output STREAM\\n-- Create output stream, which can be used to send to a destination\\nCREATE OR REPLACE STREAM \"DESTINATION_SQL_STREAM\" (\"payload\" VARCHAR(32000));\\n-- Create pump to insert into output \\nCREATE OR REPLACE PUMP \"STREAM_PUMP\" AS INSERT INTO \"DESTINATION_SQL_STREAM\"\\n-- Select all columns from source stream\\nSELECT STREAM \"payload\"\\nFROM \"SOURCE_SQL_STREAM_001\"\\n-- LIKE compares a string to a string pattern (_ matches all char, % matches substring)\\n-- SIMILAR TO compares string to a regex, may use ESCAPE\\nWHERE \"type\" = \\'newFoo\\';\\n'\n",
    "print(application_code)"
   ]
  },
  {
   "cell_type": "code",
   "execution_count": null,
   "metadata": {},
   "outputs": [],
   "source": [
    "application_config = {\n",
    "    \"SqlApplicationConfiguration\" : {\n",
    "        \"Inputs\":[{\n",
    "            'NamePrefix': 'SOURCE_SQL_STREAM',\n",
    "            \"KinesisStreamsInput\": {\n",
    "                \"ResourceARN\":\"arn:aws:kinesis:us-east-1:\" + account_no + \":stream/main\"\n",
    "            },\n",
    "            \"InputParallelism\": {\n",
    "                \"Count\": 1\n",
    "            },\n",
    "            \"InputSchema\": {\n",
    "                \"RecordFormat\": {\n",
    "                    \"RecordFormatType\":\"JSON\",\n",
    "                    'MappingParameters': {\n",
    "                        'JSONMappingParameters': {\n",
    "                            'RecordRowPath': '$'\n",
    "                        }\n",
    "                    }\n",
    "                },\n",
    "                'RecordEncoding': 'UTF-8',\n",
    "                'RecordColumns': [\n",
    "                    {\n",
    "                        'Name': 'type',\n",
    "                        'Mapping': '$.type',\n",
    "                         'SqlType': 'VARCHAR(64)'\n",
    "                    },\n",
    "                    {\n",
    "                        'Name': 'payload', \n",
    "                        'Mapping': '$', \n",
    "                        'SqlType': 'VARCHAR(32000)'\n",
    "                    }]\n",
    "            }\n",
    "        }],\n",
    "        \"Outputs\": [\n",
    "            {\n",
    "                \"Name\":\"DESTINATION_SQL_STREAM\",\n",
    "                \"KinesisStreamsOutput\": {\n",
    "                    \"ResourceARN\":\"arn:aws:kinesis:us-east-1:\" + account_no + \":stream/filtered\"\n",
    "                },\n",
    "                \"DestinationSchema\": {\n",
    "                    'RecordFormatType': 'JSON'\n",
    "                }\n",
    "            }\n",
    "        ]\n",
    "    },\n",
    "    \"ApplicationCodeConfiguration\": {\n",
    "        'CodeContentType': 'PLAINTEXT',\n",
    "        \"CodeContent\": {    \n",
    "            'TextContent': application_code\n",
    "        }\n",
    "    }\n",
    "}\n",
    "\n",
    "print(application_config)"
   ]
  },
  {
   "cell_type": "code",
   "execution_count": null,
   "metadata": {},
   "outputs": [],
   "source": [
    "car = ka.create_application(\n",
    "    ApplicationName='dave',\n",
    "    ApplicationDescription='dave app',\n",
    "    RuntimeEnvironment='SQL-1_0',\n",
    "    ServiceExecutionRole=\"arn:aws:iam::\" + account_no + \":role/service-role/sample-ka-app-role\",\n",
    "    ApplicationConfiguration = application_config\n",
    ")"
   ]
  },
  {
   "cell_type": "code",
   "execution_count": null,
   "metadata": {},
   "outputs": [],
   "source": [
    "print(car)\n",
    "print(car['ApplicationDetail']['CreateTimestamp'])\n",
    "create_timestamp = car['ApplicationDetail']['CreateTimestamp']"
   ]
  },
  {
   "cell_type": "code",
   "execution_count": null,
   "metadata": {},
   "outputs": [],
   "source": [
    "sa = ka.start_application(\n",
    "    ApplicationName='dave',\n",
    "    RunConfiguration={\n",
    "        'SqlRunConfigurations':[\n",
    "            {\n",
    "                'InputId':'1.1',\n",
    "                'InputStartingPositionConfiguration': {\n",
    "                    'InputStartingPosition':'NOW'\n",
    "                }\n",
    "            }\n",
    "        ]\n",
    "    }\n",
    ")\n",
    "print(sa)"
   ]
  },
  {
   "cell_type": "markdown",
   "metadata": {},
   "source": [
    "## Stream Read"
   ]
  },
  {
   "cell_type": "code",
   "execution_count": null,
   "metadata": {},
   "outputs": [],
   "source": [
    "## Read from stream\n",
    "\n",
    "shardId = prr['ShardId']\n",
    "print('shard id is %s' % shardId)\n",
    "\n",
    "gsir = kinesis_client.get_shard_iterator(\n",
    "    StreamName='main',\n",
    "    ShardId=shardId,\n",
    "    ShardIteratorType='TRIM_HORIZON'\n",
    ")\n",
    "print(gsir)"
   ]
  },
  {
   "cell_type": "code",
   "execution_count": null,
   "metadata": {},
   "outputs": [],
   "source": [
    "## Read from currne position of the iterator\n",
    "grr = kinesis_client.get_records(\n",
    "    ShardIterator=gsir['ShardIterator']\n",
    ")\n",
    "\n",
    "print(grr)"
   ]
  },
  {
   "cell_type": "code",
   "execution_count": null,
   "metadata": {},
   "outputs": [],
   "source": [
    "records = grr['Records']\n",
    "for r in records:\n",
    "    print(r)"
   ]
  },
  {
   "cell_type": "markdown",
   "metadata": {},
   "source": [
    "## Cleanup"
   ]
  },
  {
   "cell_type": "code",
   "execution_count": null,
   "metadata": {},
   "outputs": [],
   "source": [
    "ka.stop_application(\n",
    "    ApplicationName='dave'\n",
    ")"
   ]
  },
  {
   "cell_type": "code",
   "execution_count": null,
   "metadata": {},
   "outputs": [],
   "source": [
    "ka.delete_application(\n",
    "    ApplicationName='dave',\n",
    "    CreateTimestamp=create_timestamp\n",
    ")"
   ]
  },
  {
   "cell_type": "code",
   "execution_count": null,
   "metadata": {},
   "outputs": [],
   "source": [
    "kinesis_client.delete_stream(StreamName='main')\n",
    "kinesis_client.delete_stream(StreamName='filtered')"
   ]
  },
  {
   "cell_type": "code",
   "execution_count": null,
   "metadata": {},
   "outputs": [],
   "source": [
    "kinesis_client.list_streams()"
   ]
  },
  {
   "cell_type": "code",
   "execution_count": null,
   "metadata": {},
   "outputs": [],
   "source": [
    "iam.delete_role_policy(\n",
    "    RoleName='sample-ka-app-role',\n",
    "    PolicyName='KAPolicy'\n",
    ")"
   ]
  },
  {
   "cell_type": "code",
   "execution_count": null,
   "metadata": {},
   "outputs": [],
   "source": [
    "iam.delete_role(\n",
    "    RoleName='sample-ka-app-role'\n",
    ")"
   ]
  },
  {
   "cell_type": "code",
   "execution_count": null,
   "metadata": {},
   "outputs": [],
   "source": []
  }
 ],
 "metadata": {
  "kernelspec": {
   "display_name": "Python 3",
   "language": "python",
   "name": "python3"
  },
  "language_info": {
   "codemirror_mode": {
    "name": "ipython",
    "version": 3
   },
   "file_extension": ".py",
   "mimetype": "text/x-python",
   "name": "python",
   "nbconvert_exporter": "python",
   "pygments_lexer": "ipython3",
   "version": "3.6.5"
  }
 },
 "nbformat": 4,
 "nbformat_minor": 2
}
