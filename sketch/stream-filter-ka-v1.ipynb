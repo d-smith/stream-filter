{
 "cells": [
  {
   "cell_type": "markdown",
   "metadata": {},
   "source": [
    "# Stream Filtering - KinesisAnalytics V1 API\n",
    "\n",
    "The intent of this application is to filter the set of records written to one stream and land them in another stream as the output.\n",
    "\n",
    "Currently the output appearing in the filtered stream is prefixed with the 'payload' column, so stream consumers would have to be aware of the convention and extract the converted payload.\n",
    "\n",
    "Example - input to main stream:\n",
    "\n",
    "```console\n",
    "{\n",
    "    \"specversion\": \"1.0\",\n",
    "    \"type\": \"newFoo\",\n",
    "    \"source\": \"foo\",\n",
    "    \"id\": \"19951489-bb5c-4376-b70d-06616a7bd9a2\",\n",
    "    \"time\": \"2020-01-21T18:02:25.621391+00:00\",\n",
    "    \"data\": {\n",
    "        \"fooaddr\": \"foostuffval\",\n",
    "        \"foolist\": [\n",
    "            1,\n",
    "            2,\n",
    "            3\n",
    "        ],\n",
    "        \"barobj\": {\n",
    "            \"baraatr1\": \"yes\",\n",
    "            \"barattr2\": false,\n",
    "            \"barattr3\": 122.22\n",
    "        }\n",
    "    }\n",
    "}\n",
    "```\n",
    "\n",
    "Record in filtered output stream:\n",
    "\n",
    "```console\n",
    "\"payload\": \"{\\\"specversion\\\":\\\"1.0\\\",\\\"type\\\":\\\"newFoo\\\",\\\"source\\\":\\\"foo\\\",\\\"id\\\":\\\"2eb81374-438a-4471-aa7a-c8021d8496a4\\\",\\\"time\\\":\\\"2020-01-21T17:01:35.106678+00:00\\\",\\\"data\\\":{\\\"fooaddr\\\":\\\"foostuffval\\\",\\\"foolist\\\":[1,2,3],\\\"barobj\\\":{\\\"baraatr1\\\":\\\"yes\\\",\\\"barattr2\\\":false,\\\"barattr3\\\":122.22}}}\"\n",
    "```\n",
    "\n",
    "## Setup"
   ]
  },
  {
   "cell_type": "code",
   "execution_count": null,
   "metadata": {},
   "outputs": [],
   "source": [
    "import boto3\n",
    "\n",
    "kinesis_client = boto3.client('kinesis')"
   ]
  },
  {
   "cell_type": "code",
   "execution_count": null,
   "metadata": {},
   "outputs": [],
   "source": [
    "import os\n",
    "account_no = os.environ['ACCOUNT_NO']"
   ]
  },
  {
   "cell_type": "code",
   "execution_count": null,
   "metadata": {},
   "outputs": [],
   "source": [
    "main_stream_response = kinesis_client.create_stream(\n",
    "    StreamName='main', \n",
    "    ShardCount = 1)\n",
    "\n",
    "kinesis_client.create_stream(StreamName='filtered', ShardCount=1)"
   ]
  },
  {
   "cell_type": "code",
   "execution_count": null,
   "metadata": {},
   "outputs": [],
   "source": [
    "kinesis_client.describe_stream(StreamName='main')"
   ]
  },
  {
   "cell_type": "code",
   "execution_count": null,
   "metadata": {},
   "outputs": [],
   "source": [
    "kinesis_client.describe_stream(StreamName='filtered')"
   ]
  },
  {
   "cell_type": "markdown",
   "metadata": {},
   "source": [
    "## Stream Write"
   ]
  },
  {
   "cell_type": "code",
   "execution_count": null,
   "metadata": {},
   "outputs": [],
   "source": [
    "from datetime import datetime, timezone\n",
    "\n",
    "def timestamp():\n",
    "    the_time = datetime.now(timezone.utc)\n",
    "    return the_time.isoformat()"
   ]
  },
  {
   "cell_type": "code",
   "execution_count": null,
   "metadata": {},
   "outputs": [],
   "source": [
    "import json\n",
    "\n",
    "write_count = 10\n",
    "\n",
    "for i in range (write_count - 1):\n",
    "    event = {\n",
    "        \"specversion\":\"1.0\",\n",
    "        \"type\":\"newFoo\",\n",
    "        \"source\":\"foo\",\n",
    "        \"id\":str(uuid.uuid4()),\n",
    "        \"time\":timestamp(),\n",
    "        \"data\":{\"fooaddr\":\"foostuffval\",\n",
    "               \"foolist\": [1,2,3],\n",
    "               \"barobj\": {\n",
    "                   \"baraatr1\":\"yes\",\n",
    "                   \"barattr2\":False,\n",
    "                   \"barattr3\":122.22\n",
    "               }}\n",
    "    }\n",
    "\n",
    "    prr = kinesis_client.put_record(\n",
    "        StreamName='main',\n",
    "        Data=json.dumps(event).encode(),\n",
    "        PartitionKey=event['source']\n",
    "    )\n",
    "    print(prr)"
   ]
  },
  {
   "cell_type": "markdown",
   "metadata": {},
   "source": [
    "## Analytics App\n",
    "\n",
    "### Role"
   ]
  },
  {
   "cell_type": "code",
   "execution_count": null,
   "metadata": {},
   "outputs": [],
   "source": [
    "kinesis_app_policy = {\n",
    "    \"Version\": \"2012-10-17\",\n",
    "    \"Statement\": [\n",
    "        {\n",
    "            \"Sid\": \"ReadInputKinesis\",\n",
    "            \"Effect\": \"Allow\",\n",
    "            \"Action\": [\n",
    "                \"kinesis:DescribeStream\",\n",
    "                \"kinesis:GetShardIterator\",\n",
    "                \"kinesis:GetRecords\"\n",
    "            ],\n",
    "            \"Resource\": [\n",
    "                \"arn:aws:kinesis:us-east-1:\" + account_no + \":stream/main\"\n",
    "            ]\n",
    "        },\n",
    "        {\n",
    "            \"Sid\": \"WriteOutputKinesis\",\n",
    "            \"Effect\": \"Allow\",\n",
    "            \"Action\": [\n",
    "                \"kinesis:DescribeStream\",\n",
    "                \"kinesis:PutRecord\",\n",
    "                \"kinesis:PutRecords\"\n",
    "            ],\n",
    "            \"Resource\": [\n",
    "                \"arn:aws:kinesis:us-east-1:\" + account_no + \":stream/filtered\"\n",
    "            ]\n",
    "        }\n",
    "    ]\n",
    "}"
   ]
  },
  {
   "cell_type": "code",
   "execution_count": null,
   "metadata": {},
   "outputs": [],
   "source": [
    "assume_role_policy = {\n",
    "    \"Statement\":[{\n",
    "        \"Effect\":\"Allow\",\n",
    "        \"Principal\": {\"Service\":[\"kinesisanalytics.amazonaws.com\"]},\n",
    "        \"Action\": [\"sts:AssumeRole\"]\n",
    "    }]\n",
    "}\n",
    "    \n",
    "    \n",
    "import json\n",
    "\n",
    "json.dumps(assume_role_policy)"
   ]
  },
  {
   "cell_type": "code",
   "execution_count": null,
   "metadata": {},
   "outputs": [],
   "source": [
    "iam = boto3.client('iam')\n",
    "\n",
    "crr = iam.create_role(\n",
    "    RoleName='sample-ka-app-role',\n",
    "    Path='/service-role/',\n",
    "    AssumeRolePolicyDocument=json.dumps(assume_role_policy)\n",
    ")\n",
    "\n",
    "print(crr)"
   ]
  },
  {
   "cell_type": "code",
   "execution_count": null,
   "metadata": {},
   "outputs": [],
   "source": [
    "prp = iam.put_role_policy(\n",
    "    RoleName='sample-ka-app-role',\n",
    "    PolicyName='KAPolicy',\n",
    "    PolicyDocument=json.dumps(kinesis_app_policy)\n",
    ")\n",
    "\n",
    "print(prp)"
   ]
  },
  {
   "cell_type": "markdown",
   "metadata": {},
   "source": [
    "### App Definition"
   ]
  },
  {
   "cell_type": "code",
   "execution_count": null,
   "metadata": {},
   "outputs": [],
   "source": [
    "ka = boto3.client('kinesisanalytics')"
   ]
  },
  {
   "cell_type": "code",
   "execution_count": null,
   "metadata": {},
   "outputs": [],
   "source": [
    "application_code = '-- ** Continuous Filter ** \\n-- Performs a continuous filter based on a WHERE condition.\\n--          .----------.   .----------.   .----------.              \\n--          |  SOURCE  |   |  INSERT  |   |  DESTIN. |              \\n-- Source-->|  STREAM  |-->| & SELECT |-->|  STREAM  |-->Destination\\n--          |          |   |  (PUMP)  |   |          |              \\n--          \\'----------\\'   \\'----------\\'   \\'----------\\'               \\n-- STREAM (in-application): a continuously updated entity that you can SELECT from and INSERT into like a TABLE\\n-- PUMP: an entity used to continuously \\'SELECT ... FROM\\' a source STREAM, and INSERT SQL results into an output STREAM\\n-- Create output stream, which can be used to send to a destination\\nCREATE OR REPLACE STREAM \"DESTINATION_SQL_STREAM\" (\"payload\" VARCHAR(32000));\\n-- Create pump to insert into output \\nCREATE OR REPLACE PUMP \"STREAM_PUMP\" AS INSERT INTO \"DESTINATION_SQL_STREAM\"\\n-- Select all columns from source stream\\nSELECT STREAM \"payload\"\\nFROM \"SOURCE_SQL_STREAM_001\"\\n-- LIKE compares a string to a string pattern (_ matches all char, % matches substring)\\n-- SIMILAR TO compares string to a regex, may use ESCAPE\\nWHERE \"type\" = \\'newFoo\\';\\n'\n",
    "print(application_code)"
   ]
  },
  {
   "cell_type": "code",
   "execution_count": null,
   "metadata": {},
   "outputs": [],
   "source": [
    "car = ka.create_application(\n",
    "    ApplicationName='dave',\n",
    "    ApplicationDescription='dave the app',\n",
    "    Inputs=[\n",
    "        {\n",
    "            'NamePrefix': 'SOURCE_SQL_STREAM',\n",
    "            \"KinesisStreamsInput\": {\n",
    "                \"ResourceARN\":\"arn:aws:kinesis:us-east-1:\" + account_no + \":stream/main\",\n",
    "                \"RoleARN\":\"arn:aws:iam::\" + account_no + \":role/service-role/sample-ka-app-role\"\n",
    "            },\n",
    "            \"InputParallelism\": {\n",
    "                \"Count\": 1\n",
    "            },\n",
    "            \"InputSchema\": {\n",
    "                \"RecordFormat\": {\n",
    "                    \"RecordFormatType\":\"JSON\",\n",
    "                    'MappingParameters': {\n",
    "                        'JSONMappingParameters': {\n",
    "                            'RecordRowPath': '$'\n",
    "                        }\n",
    "                    }\n",
    "                },\n",
    "                'RecordEncoding': 'UTF-8',\n",
    "                'RecordColumns': [\n",
    "                    {\n",
    "                        'Name': 'type',\n",
    "                        'Mapping': '$.type',\n",
    "                         'SqlType': 'VARCHAR(64)'\n",
    "                    },\n",
    "                    {\n",
    "                        'Name': 'payload', \n",
    "                        'Mapping': '$', \n",
    "                        'SqlType': 'VARCHAR(32000)'\n",
    "                    }]\n",
    "            }\n",
    "        }\n",
    "    ],\n",
    "    Outputs=[\n",
    "        {\n",
    "                \"Name\":\"DESTINATION_SQL_STREAM\",\n",
    "                \"KinesisStreamsOutput\": {\n",
    "                    \"ResourceARN\":\"arn:aws:kinesis:us-east-1:\" + account_no + \":stream/filtered\",\n",
    "                    \"RoleARN\":\"arn:aws:iam::\" + account_no + \":role/service-role/sample-ka-app-role\"\n",
    "                },\n",
    "                \"DestinationSchema\": {\n",
    "                    'RecordFormatType': 'JSON'\n",
    "                }\n",
    "            }\n",
    "    ],\n",
    "    ApplicationCode=application_code\n",
    ")\n",
    "\n",
    "print(car)"
   ]
  },
  {
   "cell_type": "code",
   "execution_count": null,
   "metadata": {},
   "outputs": [],
   "source": [
    "dar = ka.describe_application(\n",
    "    ApplicationName='dave'\n",
    ")\n",
    "print(dar)"
   ]
  },
  {
   "cell_type": "code",
   "execution_count": null,
   "metadata": {},
   "outputs": [],
   "source": [
    "input_description = dar['ApplicationDetail']['InputDescriptions'][0]\n",
    "print(input_description)\n",
    "input_id = input_description['InputId']\n",
    "print(input_id)\n",
    "create_timestamp = dar['ApplicationDetail']['CreateTimestamp']\n",
    "print(create_timestamp)"
   ]
  },
  {
   "cell_type": "code",
   "execution_count": null,
   "metadata": {},
   "outputs": [],
   "source": [
    "sa = ka.start_application(\n",
    "    ApplicationName='dave',\n",
    "    InputConfigurations=[\n",
    "        {\n",
    "            'Id':input_id,\n",
    "            'InputStartingPositionConfiguration': {\n",
    "                'InputStartingPosition':'NOW'\n",
    "            }\n",
    "        }\n",
    "    ]\n",
    ")\n",
    "print(sa)"
   ]
  },
  {
   "cell_type": "markdown",
   "metadata": {},
   "source": [
    "## Clean Up"
   ]
  },
  {
   "cell_type": "code",
   "execution_count": null,
   "metadata": {},
   "outputs": [],
   "source": [
    "ka.stop_application(\n",
    "    ApplicationName='dave'\n",
    ")"
   ]
  },
  {
   "cell_type": "code",
   "execution_count": null,
   "metadata": {},
   "outputs": [],
   "source": [
    "ka.delete_application(\n",
    "    ApplicationName='dave',\n",
    "    CreateTimestamp=create_timestamp\n",
    ")"
   ]
  },
  {
   "cell_type": "code",
   "execution_count": null,
   "metadata": {},
   "outputs": [],
   "source": [
    "kinesis_client.delete_stream(StreamName='main')\n",
    "kinesis_client.delete_stream(StreamName='filtered')"
   ]
  },
  {
   "cell_type": "code",
   "execution_count": null,
   "metadata": {},
   "outputs": [],
   "source": [
    "iam.delete_role_policy(\n",
    "    RoleName='sample-ka-app-role',\n",
    "    PolicyName='KAPolicy'\n",
    ")"
   ]
  },
  {
   "cell_type": "code",
   "execution_count": null,
   "metadata": {},
   "outputs": [],
   "source": [
    "iam.delete_role(\n",
    "    RoleName='sample-ka-app-role'\n",
    ")"
   ]
  },
  {
   "cell_type": "code",
   "execution_count": null,
   "metadata": {},
   "outputs": [],
   "source": []
  }
 ],
 "metadata": {
  "kernelspec": {
   "display_name": "Python 3",
   "language": "python",
   "name": "python3"
  },
  "language_info": {
   "codemirror_mode": {
    "name": "ipython",
    "version": 3
   },
   "file_extension": ".py",
   "mimetype": "text/x-python",
   "name": "python",
   "nbconvert_exporter": "python",
   "pygments_lexer": "ipython3",
   "version": "3.6.5"
  }
 },
 "nbformat": 4,
 "nbformat_minor": 2
}
